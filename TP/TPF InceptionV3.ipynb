{
 "cells": [
  {
   "cell_type": "code",
   "execution_count": null,
   "metadata": {},
   "outputs": [],
   "source": [
    "import os\n",
    "import zipfile\n",
    "import requests\n",
    "from io import BytesIO\n",
    "from typing import Tuple, List, Dict, Any\n",
    "\n",
    "import numpy as np\n",
    "import pandas as pd\n",
    "import matplotlib.pyplot as plt\n",
    "import seaborn as sns\n",
    "from PIL import Image\n",
    "from sklearn.model_selection import train_test_split\n",
    "from sklearn.metrics import classification_report, confusion_matrix, accuracy_score\n",
    "\n",
    "import tensorflow as tf\n",
    "from tensorflow.keras.models import Model\n",
    "from tensorflow.keras.layers import Dense, Dropout, Flatten, GlobalAveragePooling2D\n",
    "from tensorflow.keras.optimizers import Adamax, Adam\n",
    "from tensorflow.keras.metrics import Precision, Recall\n",
    "from tensorflow.keras.preprocessing.image import ImageDataGenerator\n",
    "from tensorflow.keras.applications import Xception, ResNet50, InceptionV3\n",
    "from keras.callbacks import EarlyStopping, ModelCheckpoint"
   ]
  },
  {
   "cell_type": "code",
   "execution_count": null,
   "metadata": {},
   "outputs": [],
   "source": [
    "from tensorflow import keras\n",
    "from tensorflow.keras.models import Sequential\n",
    "from tensorflow.keras.layers import Conv2D, MaxPooling2D\n",
    "from tensorflow.keras import optimizers, losses"
   ]
  },
  {
   "cell_type": "code",
   "execution_count": null,
   "metadata": {},
   "outputs": [],
   "source": [
    "# Parameters\n",
    "img_size = (224, 224)\n",
    "batch_size = 32"
   ]
  },
  {
   "cell_type": "code",
   "execution_count": null,
   "metadata": {},
   "outputs": [],
   "source": [
    "def create_dataframe_from_directory(path: str) -> pd.DataFrame:\n",
    "    classes = []\n",
    "    class_paths = []\n",
    "    for label in os.listdir(path):\n",
    "        label_dir = os.path.join(path, label)\n",
    "        if os.path.isdir(label_dir):\n",
    "            for image in os.listdir(label_dir):\n",
    "                image_path = os.path.join(label_dir, image)\n",
    "                class_paths.append(image_path)\n",
    "                classes.append(label)\n",
    "    \n",
    "    return pd.DataFrame({'Class Path': class_paths, 'Class': classes})"
   ]
  },
  {
   "cell_type": "code",
   "execution_count": null,
   "metadata": {},
   "outputs": [],
   "source": [
    "def plot_class_distribution(df: pd.DataFrame) -> None:\n",
    "    plt.figure(figsize=(15, 7))\n",
    "    ax = sns.countplot(data=df, y='Class', hue='Class', palette='viridis', dodge=False)\n",
    "    \n",
    "    if ax.get_legend() is not None:\n",
    "        ax.get_legend().remove()\n",
    "    \n",
    "    plt.xlabel('')\n",
    "    plt.ylabel('')\n",
    "    plt.title('Count of images in each class', fontsize=20)\n",
    "    \n",
    "    for container in ax.containers:\n",
    "        ax.bar_label(container, label_type='edge', padding=10)\n",
    "    \n",
    "    plt.show()"
   ]
  },
  {
   "cell_type": "code",
   "execution_count": null,
   "metadata": {},
   "outputs": [],
   "source": [
    "def plot_sample_images(generator, classes, num_samples=16):\n",
    "    images, labels = next(generator)\n",
    "    plt.figure(figsize=(20, 20))\n",
    "    \n",
    "    for i in range(num_samples):\n",
    "        plt.subplot(4, 4, i + 1)\n",
    "        image = images[i] / 255\n",
    "        plt.imshow(image)\n",
    "        class_name = classes[np.argmax(labels[i])]\n",
    "        plt.title(class_name, color='k', fontsize=20)\n",
    "    \n",
    "    plt.show()"
   ]
  },
  {
   "cell_type": "code",
   "execution_count": null,
   "metadata": {},
   "outputs": [],
   "source": [
    "def create_image_generators(df_train: pd.DataFrame, \n",
    "                            df_valid: pd.DataFrame, \n",
    "                            df_test: pd.DataFrame,\n",
    "                            batch_size: int = 16, \n",
    "                            img_size: Tuple[int, int] = (224, 224)) -> Tuple[ImageDataGenerator, ImageDataGenerator, ImageDataGenerator]:\n",
    "    train_datagen = ImageDataGenerator(\n",
    "        brightness_range=(0.7, 1.3), \n",
    "        zoom_range=0.3,\n",
    "        horizontal_flip=True,\n",
    "        vertical_flip=True,\n",
    "        rotation_range=40\n",
    "    )\n",
    "    \n",
    "    valid_test_datagen = ImageDataGenerator()\n",
    "    train_gen = train_datagen.flow_from_dataframe(\n",
    "        dataframe=df_train,\n",
    "        x_col='Class Path',\n",
    "        y_col='Class',\n",
    "        batch_size=batch_size,\n",
    "        target_size=img_size,\n",
    "        class_mode='categorical'\n",
    "    )\n",
    "    \n",
    "    valid_gen = valid_test_datagen.flow_from_dataframe(\n",
    "        dataframe=df_valid,\n",
    "        x_col='Class Path',\n",
    "        y_col='Class',\n",
    "        batch_size=batch_size,\n",
    "        target_size=img_size,\n",
    "        class_mode='categorical'\n",
    "    )\n",
    "    \n",
    "    test_gen = valid_test_datagen.flow_from_dataframe(\n",
    "        dataframe=df_test,\n",
    "        x_col='Class Path',\n",
    "        y_col='Class',\n",
    "        batch_size=batch_size,\n",
    "        target_size=img_size,\n",
    "        shuffle=False,\n",
    "        class_mode='categorical'\n",
    "    )\n",
    "    \n",
    "    return train_gen, valid_gen, test_gen"
   ]
  },
  {
   "cell_type": "code",
   "execution_count": null,
   "metadata": {},
   "outputs": [],
   "source": [
    "def build_model(base_model_name: str, num_classes: int) -> Model:\n",
    "    if base_model_name == 'Xception':\n",
    "        base_model = Xception(include_top=False, weights='imagenet', input_shape=(224, 224, 3))\n",
    "    elif base_model_name == 'ResNet50':\n",
    "        base_model = ResNet50(include_top=False, weights='imagenet', input_shape=(224, 224, 3))\n",
    "    elif base_model_name == 'InceptionV3':\n",
    "        base_model = InceptionV3(include_top=False, weights='imagenet', input_shape=(224, 224, 3))\n",
    "    else:\n",
    "        raise ValueError(f\"Unknown base model: {base_model_name}\")\n",
    "    \n",
    "    inputs = tf.keras.Input(shape=(224, 224, 3))\n",
    "    x = base_model(inputs, training=False)\n",
    "    x = GlobalAveragePooling2D()(x) \n",
    "    x = Dense(128, activation='relu')(x)\n",
    "    outputs = Dense(num_classes, activation='softmax')(x)\n",
    "    model = tf.keras.Model(inputs, outputs)\n",
    "    model.compile(optimizer=Adamax(learning_rate=0.001),\n",
    "                  loss='categorical_crossentropy',\n",
    "                  metrics=['accuracy'])\n",
    "    \n",
    "    return model"
   ]
  },
  {
   "cell_type": "code",
   "execution_count": null,
   "metadata": {},
   "outputs": [],
   "source": [
    "def plot_training_history(history: tf.keras.callbacks.History) -> None:\n",
    "    plt.figure(figsize=(12, 6))\n",
    "    plt.subplot(1, 2, 1)\n",
    "    plt.plot(history.history['accuracy'], label='Train Accuracy')\n",
    "    plt.plot(history.history['val_accuracy'], label='Validation Accuracy')\n",
    "    plt.title('Model Accuracy')\n",
    "    plt.xlabel('Epoch')\n",
    "    plt.ylabel('Accuracy')\n",
    "    plt.legend()\n",
    "    plt.subplot(1, 2, 2)\n",
    "    plt.plot(history.history['loss'], label='Train Loss')\n",
    "    plt.plot(history.history['val_loss'], label='Validation Loss')\n",
    "    plt.title('Model Loss')\n",
    "    plt.xlabel('Epoch')\n",
    "    plt.ylabel('Loss')\n",
    "    plt.legend()\n",
    "    plt.show()"
   ]
  },
  {
   "cell_type": "code",
   "execution_count": null,
   "metadata": {},
   "outputs": [],
   "source": [
    "def plot_confusion_matrix(y_true: pd.Series, y_pred: List[str], class_names: List[str]) -> None:\n",
    "    cm = confusion_matrix(y_true, y_pred, labels=class_names)\n",
    "    plt.figure(figsize=(10, 7))\n",
    "    sns.heatmap(cm, annot=True, fmt='g', vmin=0, cmap='Blues', xticklabels=class_names, yticklabels=class_names)\n",
    "    plt.xlabel('Predicted')\n",
    "    plt.ylabel('True')\n",
    "    plt.show()"
   ]
  },
  {
   "cell_type": "code",
   "execution_count": null,
   "metadata": {},
   "outputs": [],
   "source": [
    "# Load and prepare data\n",
    "train_path = './Dataset/train'\n",
    "test_path = './Dataset/test'"
   ]
  },
  {
   "cell_type": "code",
   "execution_count": null,
   "metadata": {},
   "outputs": [],
   "source": [
    "plot_loss_curves(history)"
   ]
  },
  {
   "cell_type": "code",
   "execution_count": null,
   "metadata": {},
   "outputs": [],
   "source": [
    "train_df = create_dataframe_from_directory(train_path)\n",
    "test_df = create_dataframe_from_directory(test_path)"
   ]
  },
  {
   "cell_type": "code",
   "execution_count": null,
   "metadata": {},
   "outputs": [],
   "source": [
    "valid_df, test_df = train_test_split(test_df, train_size=0.5, random_state=20)"
   ]
  },
  {
   "cell_type": "code",
   "execution_count": null,
   "metadata": {},
   "outputs": [],
   "source": [
    "plot_class_distribution(train_df)\n",
    "plot_class_distribution(test_df)"
   ]
  },
  {
   "cell_type": "code",
   "execution_count": null,
   "metadata": {},
   "outputs": [],
   "source": [
    "train_gen, valid_gen, test_gen = create_image_generators(train_df, valid_df, test_df, batch_size=batch_size, img_size=img_size)"
   ]
  },
  {
   "cell_type": "code",
   "execution_count": null,
   "metadata": {},
   "outputs": [],
   "source": [
    "num_classes = len(train_gen.class_indices)"
   ]
  },
  {
   "cell_type": "code",
   "execution_count": null,
   "metadata": {},
   "outputs": [],
   "source": [
    "# Build and compile model\n",
    "# base_model_ResNet50 = 'ResNet50'  \n",
    "# base_model_Xception = 'Xception'  \n",
    "base_model_InceptionV3 = 'InceptionV3'  \n",
    "\n",
    "model_ResNet50 = build_model(base_model_InceptionV3, num_classes)"
   ]
  },
  {
   "cell_type": "code",
   "execution_count": null,
   "metadata": {},
   "outputs": [],
   "source": [
    "model_ResNet50.summary()"
   ]
  },
  {
   "cell_type": "code",
   "execution_count": null,
   "metadata": {},
   "outputs": [],
   "source": [
    "# Plot sample images\n",
    "class_dict = train_gen.class_indices\n",
    "classes = list(class_dict.keys())\n",
    "plot_sample_images(train_gen, classes)"
   ]
  },
  {
   "cell_type": "markdown",
   "metadata": {},
   "source": [
    "### Train the model"
   ]
  },
  {
   "cell_type": "code",
   "execution_count": null,
   "metadata": {},
   "outputs": [],
   "source": [
    "early_stopping = EarlyStopping(monitor='val_loss', mode='min', patience=3)"
   ]
  },
  {
   "cell_type": "code",
   "execution_count": null,
   "metadata": {},
   "outputs": [],
   "source": [
    "history_ResNet50 = model_ResNet50.fit(\n",
    "    train_gen,\n",
    "    epochs=5,\n",
    "    validation_data=valid_gen,\n",
    "    shuffle=True,\n",
    "    callbacks=[early_stopping]\n",
    ")"
   ]
  },
  {
   "cell_type": "code",
   "execution_count": null,
   "metadata": {},
   "outputs": [],
   "source": [
    "# Plot training history\n",
    "plot_training_history(history_ResNet50)"
   ]
  },
  {
   "cell_type": "code",
   "execution_count": null,
   "metadata": {},
   "outputs": [],
   "source": [
    "# Evaluate the model\n",
    "test_gen.reset()\n",
    "y_pred_ResNet50 = model_ResNet50.predict(test_gen)\n",
    "y_pred_classes_ResNet50 = np.argmax(y_pred_ResNet50, axis=1)\n",
    "class_names = list(train_gen.class_indices.keys())"
   ]
  },
  {
   "cell_type": "code",
   "execution_count": null,
   "metadata": {},
   "outputs": [],
   "source": [
    "# Convert predictions to class names\n",
    "y_true = test_df['Class']\n",
    "y_true_labels = y_true.astype(str)\n",
    "y_pred_labels_ResNet50 = [class_names[idx] for idx in y_pred_classes_ResNet50]"
   ]
  },
  {
   "cell_type": "code",
   "execution_count": null,
   "metadata": {},
   "outputs": [],
   "source": [
    "# Print classification report and accuracy\n",
    "print(classification_report(y_true_labels, y_pred_labels_ResNet50))\n",
    "print(f\"Accuracy: {accuracy_score(y_true_labels, y_pred_labels_ResNet50):.4f}\")"
   ]
  },
  {
   "cell_type": "code",
   "execution_count": null,
   "metadata": {},
   "outputs": [],
   "source": [
    "# Plot confusion matrix\n",
    "plot_confusion_matrix(y_true_labels, y_pred_labels_ResNet50, class_names)"
   ]
  },
  {
   "cell_type": "markdown",
   "metadata": {},
   "source": [
    "## Xception"
   ]
  },
  {
   "cell_type": "code",
   "execution_count": null,
   "metadata": {},
   "outputs": [],
   "source": [
    "base_model = 'Xception'   \n",
    "model_Xception = build_model(base_model, num_classes)"
   ]
  },
  {
   "cell_type": "code",
   "execution_count": null,
   "metadata": {},
   "outputs": [],
   "source": [
    "model_Xception.summary()"
   ]
  },
  {
   "cell_type": "markdown",
   "metadata": {},
   "source": [
    "### Train model"
   ]
  },
  {
   "cell_type": "code",
   "execution_count": null,
   "metadata": {},
   "outputs": [],
   "source": [
    "early_stopping = EarlyStopping(monitor='val_loss', mode='min', patience=3)"
   ]
  },
  {
   "cell_type": "code",
   "execution_count": null,
   "metadata": {},
   "outputs": [],
   "source": [
    "history_Xception = model_Xception.fit(\n",
    "    train_gen,\n",
    "    epochs=5,\n",
    "    validation_data=valid_gen,\n",
    "    shuffle=True,\n",
    "    callbacks=[early_stopping]\n",
    ")"
   ]
  },
  {
   "cell_type": "code",
   "execution_count": null,
   "metadata": {},
   "outputs": [],
   "source": [
    "# Plot training history\n",
    "plot_training_history(history_Xception)"
   ]
  },
  {
   "cell_type": "code",
   "execution_count": null,
   "metadata": {},
   "outputs": [],
   "source": [
    "# Evaluate the model\n",
    "test_gen.reset()\n",
    "y_pred_Xception = model_Xception.predict(test_gen)\n",
    "y_pred_classes_Xception = np.argmax(y_pred_Xception, axis=1)\n",
    "class_names = list(train_gen.class_indices.keys())"
   ]
  },
  {
   "cell_type": "code",
   "execution_count": null,
   "metadata": {},
   "outputs": [],
   "source": [
    "# Convert predictions to class names\n",
    "y_true = test_df['Class']\n",
    "y_true_labels = y_true.astype(str)\n",
    "y_pred_labels_Xception = [class_names[idx] for idx in y_pred_classes_Xception]"
   ]
  },
  {
   "cell_type": "code",
   "execution_count": null,
   "metadata": {},
   "outputs": [],
   "source": [
    "# Print classification report and accuracy\n",
    "print(classification_report(y_true_labels, y_pred_labels_Xception))\n",
    "print(f\"Accuracy: {accuracy_score(y_true_labels, y_pred_labels_Xception):.4f}\")"
   ]
  },
  {
   "cell_type": "code",
   "execution_count": null,
   "metadata": {},
   "outputs": [],
   "source": [
    "# Plot confusion matrix\n",
    "plot_confusion_matrix(y_true_labels, y_pred_labels_Xception, class_names)"
   ]
  },
  {
   "cell_type": "markdown",
   "metadata": {},
   "source": [
    "## Modelo Alternativo"
   ]
  }
 ],
 "metadata": {
  "kernelspec": {
   "display_name": "venv",
   "language": "python",
   "name": "python3"
  },
  "language_info": {
   "codemirror_mode": {
    "name": "ipython",
    "version": 3
   },
   "file_extension": ".py",
   "mimetype": "text/x-python",
   "name": "python",
   "nbconvert_exporter": "python",
   "pygments_lexer": "ipython3",
   "version": "3.12.3"
  }
 },
 "nbformat": 4,
 "nbformat_minor": 2
}
